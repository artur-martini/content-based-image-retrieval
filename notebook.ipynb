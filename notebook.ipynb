{
 "cells": [
  {
   "cell_type": "markdown",
   "metadata": {},
   "source": [
    "# Trabalho 2 CMP197 Fundamentos de Visão Computacional - *Content-based Image Retrieval* \n",
    "\n",
    "Alunos: Artur Martini e Renan Britz \\\n",
    "Professor: Dr. Cláudio Rosito Jung\n",
    "\n",
    "*Enunciado: Content-based image retrieval (CBIR) consiste em fornecer uma imagem de consulta e recuperar imagens \"semelhantes\" em uma base de dados. O objetivo desse trabalho é criar um sistema de CBIR usando informação de forma como medida de similaridade. O sistema recebe como entrada uma imagem de busca, um número inteiro positivo N, e então retorna as N imagens da base de dados mais semelhantes à imagem de busca, em ordem descresente de similaridade.*\n",
    "\n",
    "*Os testes serão feitos na base de imagens binárias The 216-Shape Database.*"
   ]
  },
  {
   "cell_type": "code",
   "execution_count": 54,
   "metadata": {},
   "outputs": [],
   "source": [
    "import cv2 as cv\n",
    "import matplotlib.pyplot as plt "
   ]
  },
  {
   "cell_type": "code",
   "execution_count": 61,
   "metadata": {},
   "outputs": [],
   "source": [
    "import sys, os\n",
    "sys.path.append('./scripts/')\n",
    "from convertPGM2PNG import convert_PGM2PNG\n",
    "\n",
    "convert_PGM2PNG(source_folder='./data/pgms/', save_folder='./data/pngs/')\n",
    "\n"
   ]
  },
  {
   "cell_type": "markdown",
   "metadata": {},
   "source": [
    "## parte 1 ..."
   ]
  },
  {
   "cell_type": "code",
   "execution_count": null,
   "metadata": {},
   "outputs": [],
   "source": []
  },
  {
   "cell_type": "markdown",
   "metadata": {},
   "source": [
    "## parte 2 ..."
   ]
  },
  {
   "cell_type": "code",
   "execution_count": null,
   "metadata": {},
   "outputs": [],
   "source": []
  },
  {
   "cell_type": "markdown",
   "metadata": {},
   "source": [
    "## parte n ..."
   ]
  },
  {
   "cell_type": "code",
   "execution_count": null,
   "metadata": {},
   "outputs": [],
   "source": []
  }
 ],
 "metadata": {
  "interpreter": {
   "hash": "2be5faf79681da6f2a61fdfdd5405d65d042280f7fba6178067603e3a2925119"
  },
  "kernelspec": {
   "display_name": "Python 3.10.2 64-bit",
   "language": "python",
   "name": "python3"
  },
  "language_info": {
   "codemirror_mode": {
    "name": "ipython",
    "version": 3
   },
   "file_extension": ".py",
   "mimetype": "text/x-python",
   "name": "python",
   "nbconvert_exporter": "python",
   "pygments_lexer": "ipython3",
   "version": "3.10.2"
  },
  "orig_nbformat": 4
 },
 "nbformat": 4,
 "nbformat_minor": 2
}
